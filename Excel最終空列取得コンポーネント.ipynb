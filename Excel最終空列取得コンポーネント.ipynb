{
 "cells": [
  {
   "cell_type": "code",
   "execution_count": null,
   "metadata": {},
   "outputs": [],
   "source": [
    "from openpyxl import load_workbook\n",
    "\n",
    "def find_first_blank_column(path_excel, sheet_excel):\n",
    "    # Load the workbook and sheet\n",
    "    wb = load_workbook(path_excel)\n",
    "    sheet = wb[sheet_excel]\n",
    "    \n",
    "    # Iterate through columns until finding the first blank column\n",
    "    for col in range(1, sheet.max_column + 2):  # Include one extra column for a completely blank new column\n",
    "        is_blank = all(sheet.cell(row=row, column=col).value is None for row in range(1, sheet.max_row + 1))\n",
    "        if is_blank:\n",
    "            # Convert the column index to Excel column name\n",
    "            result = index_to_excel_column(col - 2)\n",
    "            return result\n",
    "\n",
    "\n",
    "def index_to_excel_column(index):\n",
    "    # Convert a zero-based index to Excel column name\n",
    "    result = \"\"\n",
    "    while index >= 0:\n",
    "        result = chr(index % 26 + 65) + result\n",
    "        index = index // 26 - 1\n",
    "    return result\n",
    "\n",
    "column = find_first_blank_column(path_excel, sheet_excel)\n"
   ]
  }
 ],
 "metadata": {
  "language_info": {
   "name": "python"
  }
 },
 "nbformat": 4,
 "nbformat_minor": 2
}
