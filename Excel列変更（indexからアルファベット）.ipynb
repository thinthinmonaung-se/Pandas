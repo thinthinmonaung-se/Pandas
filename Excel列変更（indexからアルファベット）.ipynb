{
 "cells": [
  {
   "cell_type": "code",
   "execution_count": null,
   "metadata": {},
   "outputs": [],
   "source": [
    "import string\n",
    "\n",
    "def index_to_excel_column(index):\n",
    "    # This function converts a zero-based index to an Excel column name\n",
    "    result = \"\"\n",
    "    while index >= 0:\n",
    "        result = string.ascii_uppercase[index % 26] + result\n",
    "        index = index // 26 - 1\n",
    "    return result\n",
    "\n",
    "column = index_to_excel_column(index)"
   ]
  }
 ],
 "metadata": {
  "language_info": {
   "name": "python"
  }
 },
 "nbformat": 4,
 "nbformat_minor": 2
}
