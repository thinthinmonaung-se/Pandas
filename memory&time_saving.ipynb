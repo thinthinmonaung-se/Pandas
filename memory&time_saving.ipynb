{
 "cells": [
  {
   "cell_type": "code",
   "execution_count": 1,
   "metadata": {},
   "outputs": [],
   "source": [
    "import pandas as pd\n",
    "import numpy as np\n",
    "\n",
    "def get_dataset(size):\n",
    "    df = pd.DataFrame()\n",
    "    df[\"position\"] = np.random.choice(['left','middle','right'],size)\n",
    "    df['age'] = np.random.randint(1,50,size)\n",
    "    df['team'] = np.random.choice(['red','blue','yellow','green'],size)\n",
    "    df['win'] = np.random.choice(['yes','no'],size)\n",
    "    df['prob'] = np.random.uniform(0,1,size)\n",
    "    return df"
   ]
  },
  {
   "cell_type": "code",
   "execution_count": 2,
   "metadata": {},
   "outputs": [
    {
     "name": "stdout",
     "output_type": "stream",
     "text": [
      "<class 'pandas.core.frame.DataFrame'>\n",
      "RangeIndex: 1000000 entries, 0 to 999999\n",
      "Data columns (total 5 columns):\n",
      " #   Column    Non-Null Count    Dtype  \n",
      "---  ------    --------------    -----  \n",
      " 0   position  1000000 non-null  object \n",
      " 1   age       1000000 non-null  int32  \n",
      " 2   team      1000000 non-null  object \n",
      " 3   win       1000000 non-null  object \n",
      " 4   prob      1000000 non-null  float64\n",
      "dtypes: float64(1), int32(1), object(3)\n",
      "memory usage: 34.3+ MB\n"
     ]
    }
   ],
   "source": [
    "df = get_dataset(1000000)\n",
    "df.info()"
   ]
  },
  {
   "cell_type": "code",
   "execution_count": 3,
   "metadata": {},
   "outputs": [
    {
     "name": "stdout",
     "output_type": "stream",
     "text": [
      "558 ms ± 33.1 ms per loop (mean ± std. dev. of 7 runs, 1 loop each)\n",
      "615 ms ± 15.9 ms per loop (mean ± std. dev. of 7 runs, 1 loop each)\n",
      "682 ms ± 6.63 ms per loop (mean ± std. dev. of 7 runs, 1 loop each)\n"
     ]
    }
   ],
   "source": [
    "%timeit df['age_rank'] = df.groupby(['team','position'])['age'].rank()\n",
    "%timeit df['prob_rank'] = df.groupby(['team','position'])['prob'].rank()\n",
    "%timeit df['win_prob_rank'] = df.groupby(['team','position','win'])['prob'].rank()"
   ]
  },
  {
   "cell_type": "code",
   "execution_count": 6,
   "metadata": {},
   "outputs": [
    {
     "name": "stdout",
     "output_type": "stream",
     "text": [
      "<class 'pandas.core.frame.DataFrame'>\n",
      "RangeIndex: 1000000 entries, 0 to 999999\n",
      "Data columns (total 8 columns):\n",
      " #   Column         Non-Null Count    Dtype  \n",
      "---  ------         --------------    -----  \n",
      " 0   position       1000000 non-null  object \n",
      " 1   age            1000000 non-null  int32  \n",
      " 2   team           1000000 non-null  object \n",
      " 3   win            1000000 non-null  object \n",
      " 4   prob           1000000 non-null  float64\n",
      " 5   age_rank       1000000 non-null  float64\n",
      " 6   prob_rank      1000000 non-null  float64\n",
      " 7   win_prob_rank  1000000 non-null  float64\n",
      "dtypes: float64(4), int32(1), object(3)\n",
      "memory usage: 57.2+ MB\n"
     ]
    }
   ],
   "source": [
    "def set_dtypes(df):\n",
    "    df['position'] = df['position'].astype('category')\n",
    "    df['team'] = df['team'].astype('category')\n",
    "    df['age'] = df['age'].astype('int8')\n",
    "    df['prob'] = df['prob'].astype('float16')\n",
    "    df['win'] = df['win'].map({'yes':True,'no':False})\n",
    "    return df\n",
    "\n",
    "df.info()"
   ]
  },
  {
   "cell_type": "code",
   "execution_count": 7,
   "metadata": {},
   "outputs": [
    {
     "name": "stdout",
     "output_type": "stream",
     "text": [
      "541 ms ± 25.7 ms per loop (mean ± std. dev. of 7 runs, 1 loop each)\n",
      "587 ms ± 11.8 ms per loop (mean ± std. dev. of 7 runs, 1 loop each)\n",
      "678 ms ± 15 ms per loop (mean ± std. dev. of 7 runs, 1 loop each)\n"
     ]
    }
   ],
   "source": [
    "df = get_dataset(1000000)\n",
    "%timeit df['age_rank'] = df.groupby(['team','position'])['age'].rank()\n",
    "%timeit df['prob_rank'] = df.groupby(['team','position'])['prob'].rank()\n",
    "%timeit df['win_prob_rank'] = df.groupby(['team','position','win'])['prob'].rank()"
   ]
  },
  {
   "cell_type": "code",
   "execution_count": 8,
   "metadata": {},
   "outputs": [
    {
     "name": "stderr",
     "output_type": "stream",
     "text": [
      "<magic-timeit>:1: FutureWarning: The default of observed=False is deprecated and will be changed to True in a future version of pandas. Pass observed=False to retain current behavior or observed=True to adopt the future default and silence this warning.\n",
      "<magic-timeit>:1: FutureWarning: The default of observed=False is deprecated and will be changed to True in a future version of pandas. Pass observed=False to retain current behavior or observed=True to adopt the future default and silence this warning.\n"
     ]
    },
    {
     "name": "stdout",
     "output_type": "stream",
     "text": [
      "321 ms ± 7.76 ms per loop (mean ± std. dev. of 7 runs, 1 loop each)\n"
     ]
    },
    {
     "name": "stderr",
     "output_type": "stream",
     "text": [
      "<magic-timeit>:1: FutureWarning: The default of observed=False is deprecated and will be changed to True in a future version of pandas. Pass observed=False to retain current behavior or observed=True to adopt the future default and silence this warning.\n"
     ]
    },
    {
     "name": "stdout",
     "output_type": "stream",
     "text": [
      "468 ms ± 16.6 ms per loop (mean ± std. dev. of 7 runs, 1 loop each)\n"
     ]
    },
    {
     "name": "stderr",
     "output_type": "stream",
     "text": [
      "<magic-timeit>:1: FutureWarning: The default of observed=False is deprecated and will be changed to True in a future version of pandas. Pass observed=False to retain current behavior or observed=True to adopt the future default and silence this warning.\n"
     ]
    },
    {
     "name": "stdout",
     "output_type": "stream",
     "text": [
      "497 ms ± 24.3 ms per loop (mean ± std. dev. of 7 runs, 1 loop each)\n"
     ]
    }
   ],
   "source": [
    "df = get_dataset(1000000)\n",
    "df = set_dtypes(df)\n",
    "%timeit df['age_rank'] = df.groupby(['team','position'])['age'].rank()\n",
    "%timeit df['prob_rank'] = df.groupby(['team','position'])['prob'].rank()\n",
    "%timeit df['win_prob_rank'] = df.groupby(['team','position','win'])['prob'].rank()"
   ]
  }
 ],
 "metadata": {
  "kernelspec": {
   "display_name": "Python 3",
   "language": "python",
   "name": "python3"
  },
  "language_info": {
   "codemirror_mode": {
    "name": "ipython",
    "version": 3
   },
   "file_extension": ".py",
   "mimetype": "text/x-python",
   "name": "python",
   "nbconvert_exporter": "python",
   "pygments_lexer": "ipython3",
   "version": "3.12.5"
  }
 },
 "nbformat": 4,
 "nbformat_minor": 2
}
