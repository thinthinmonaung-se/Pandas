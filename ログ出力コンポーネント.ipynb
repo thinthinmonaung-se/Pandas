{
 "cells": [
  {
   "cell_type": "code",
   "execution_count": null,
   "metadata": {},
   "outputs": [],
   "source": [
    "import logging\n",
    "\n",
    "# ログ設定\n",
    "logging.basicConfig(filename=Log_path,\n",
    "    level=logging.INFO, \n",
    "    format=\"%(asctime)s %(message)s\",\n",
    "    datefmt=\"%Y/%m/%d %H:%M:%S\")\n",
    "\n",
    "def log_text(label, message):\n",
    "    logging.info(f\"{label} {message}\")\n",
    "    \n",
    "    \n",
    "log_text(log_label, log_message)"
   ]
  }
 ],
 "metadata": {
  "language_info": {
   "name": "python"
  }
 },
 "nbformat": 4,
 "nbformat_minor": 2
}
