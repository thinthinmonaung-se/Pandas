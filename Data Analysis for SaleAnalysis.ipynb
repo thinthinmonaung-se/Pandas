{
 "cells": [
  {
   "cell_type": "code",
   "execution_count": 5,
   "metadata": {},
   "outputs": [],
   "source": [
    "# Merging 12 months of sale data to a single file\n",
    "\n",
    "import os\n",
    "import pandas as pd\n",
    "\n",
    "files = [file for file in os.listdir('C:\\\\Python Learning\\\\Pandas-Data-Science-Tasks\\\\SalesAnalysis\\\\Sales_Data')]\n",
    "\n",
    "all_months_data = pd.DataFrame()\n",
    "\n",
    "for f in files:    \n",
    "    file = os.path.join('C:\\\\Python Learning\\\\Pandas-Data-Science-Tasks\\\\SalesAnalysis\\\\Sales_Data',f)\n",
    "    df = pd.read_csv(file)\n",
    "    all_months_data = pd.concat([all_months_data,df])\n",
    "\n",
    "all_months_data.to_csv('all_data.csv',index=False)\n",
    "\n",
    "\n",
    "# Read data from new dataframe\n",
    "all_data = pd.read_csv('all_data.csv')\n",
    "\n",
    "\n",
    "# Search & Drop rows of NaN\n",
    "nan_df = all_data[all_data.isna().any(axis=1)]\n",
    "all_data = all_data.dropna(how='all')\n",
    "\n",
    "\n",
    "# Find 'Or' and delete it\n",
    "all_data = all_data[all_data['Order Date'].str[0:2] != 'Or']\n",
    "\n",
    "\n",
    "# Add Month column\n",
    "all_data['Month'] = all_data['Order Date'].str[0:2]\n",
    "all_data['Month'] = all_data['Month'].astype('int32')\n",
    "\n",
    "\n",
    "# Convert columns(string) to the correct type(int)\n",
    "all_data['Quantity Ordered'] = pd.to_numeric(all_data['Quantity Ordered'])\n",
    "all_data['Price Each'] = pd.to_numeric(all_data['Price Each'])\n",
    "\n",
    "\n",
    "# Add 'Sales' column\n",
    "all_data['Sales'] = all_data['Quantity Ordered'] * all_data['Price Each']"
   ]
  },
  {
   "cell_type": "code",
   "execution_count": 6,
   "metadata": {},
   "outputs": [],
   "source": [
    "# Question 1: What was the best month for sales? How much was earned that month?\n",
    "monthly_sale = all_data.groupby('Month').sum()['Sales']\n",
    "best_month = monthly_sale.idxmax()  \n",
    "best_month_sales = monthly_sale.max() "
   ]
  },
  {
   "cell_type": "code",
   "execution_count": 7,
   "metadata": {},
   "outputs": [],
   "source": [
    "# Question 2: What city sold the most product?\n",
    "def get_city(address):\n",
    "    return address.split(',')[1]\n",
    "\n",
    "def get_state(address):\n",
    "    return address.split(',')[2].split(' ')[1]\n",
    "\n",
    "# Other way above:  all_data['City'] = all_data['Purchase Address'].apply(get_city)\n",
    "all_data['City'] = all_data['Purchase Address'].apply(lambda x:f\"{get_city(x)} ({get_state(x)})\")\n",
    "city_sale = all_data.groupby('City').sum()['Sales']\n",
    "best_city = city_sale.idxmax()"
   ]
  },
  {
   "cell_type": "code",
   "execution_count": 8,
   "metadata": {},
   "outputs": [
    {
     "name": "stderr",
     "output_type": "stream",
     "text": [
      "C:\\Users\\df-admin\\AppData\\Local\\Temp\\ipykernel_15608\\1627820695.py:2: UserWarning: Could not infer format, so each element will be parsed individually, falling back to `dateutil`. To ensure parsing is consistent and as-expected, please specify a format.\n",
      "  all_data['Order Date'] = pd.to_datetime(all_data['Order Date'])\n"
     ]
    }
   ],
   "source": [
    "# Question 3 : What time should we display adverisements to maximize likelihood of customers's buying product?\n",
    "all_data['Order Date'] = pd.to_datetime(all_data['Order Date'])\n",
    "all_data['Hour'] = all_data['Order Date'].dt.hour\n",
    "all_data['Minute'] = all_data['Order Date'].dt.minute"
   ]
  },
  {
   "cell_type": "code",
   "execution_count": null,
   "metadata": {},
   "outputs": [],
   "source": [
    "# Question 4 : What products are most often sold together?\n",
    "df = all_data[all_data['Order ID'].duplicated(keep=False)]\n",
    "df['Grouped'] = df.groupby('Order ID')['Product'].transform(lambda x:','.join(x))     # ***awesome***\n",
    "df = df[['Order ID','Grouped']].drop_duplicates()\n",
    "\n",
    "from itertools import combinations\n",
    "from collections import Counter\n",
    "count = Counter()\n",
    "for row in df['Grouped']:\n",
    "    row_list = row.split(',')\n",
    "    count.update(Counter(combinations(row_list,2)))\n",
    "\n",
    "for key,value in count.most_common(10):\n",
    "    print(key,value)"
   ]
  },
  {
   "cell_type": "code",
   "execution_count": null,
   "metadata": {},
   "outputs": [
    {
     "name": "stdout",
     "output_type": "stream",
     "text": [
      "AAA Batteries (4-pack)\n"
     ]
    }
   ],
   "source": [
    "# Question 5 : What product sold the most? Why do you think it sold the most?\n",
    "product_group = all_data.groupby('Product')\n",
    "all_data['Quantity Ordered'] = pd.to_numeric(all_data['Quantity Ordered'], errors='coerce')\n",
    "qty_group = product_group['Quantity Ordered'].sum()\n",
    "most_product = qty_group.idxmax()\n",
    "print(most_product)"
   ]
  },
  {
   "cell_type": "code",
   "execution_count": 4,
   "metadata": {},
   "outputs": [
    {
     "data": {
      "text/plain": [
       "[82, 73, 80, 73, 62]"
      ]
     },
     "execution_count": 4,
     "metadata": {},
     "output_type": "execute_result"
    }
   ],
   "source": [
    "from functools import reduce\n",
    "nums = [10,20,22,25,29,35]\n",
    "sum = reduce(lambda x,y : x+y, nums)\n",
    "\n",
    "max = reduce(lambda x,y : x if x > y else y , nums)\n",
    "\n",
    "scores = [[1,35,80],[2,32,75],[3,30,82],[4,33,75],[5,37,60]]\n",
    "avg = 35\n",
    "new_marks = map(lambda x : x[2]+2 if x[1] >= avg else x[2]-2, scores )\n",
    "list(new_marks)"
   ]
  }
 ],
 "metadata": {
  "kernelspec": {
   "display_name": "Python 3",
   "language": "python",
   "name": "python3"
  },
  "language_info": {
   "codemirror_mode": {
    "name": "ipython",
    "version": 3
   },
   "file_extension": ".py",
   "mimetype": "text/x-python",
   "name": "python",
   "nbconvert_exporter": "python",
   "pygments_lexer": "ipython3",
   "version": "3.12.5"
  }
 },
 "nbformat": 4,
 "nbformat_minor": 2
}
